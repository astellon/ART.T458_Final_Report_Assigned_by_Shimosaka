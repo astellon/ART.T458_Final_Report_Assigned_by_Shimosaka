{
 "cells": [
  {
   "cell_type": "markdown",
   "metadata": {},
   "source": [
    "# My solution for Q1"
   ]
  },
  {
   "cell_type": "code",
   "execution_count": 1,
   "metadata": {},
   "outputs": [],
   "source": [
    "import os\n",
    "import sys"
   ]
  },
  {
   "cell_type": "code",
   "execution_count": 2,
   "metadata": {},
   "outputs": [],
   "source": [
    "import numpy as np\n",
    "import matplotlib.pyplot as plt"
   ]
  },
  {
   "cell_type": "code",
   "execution_count": 3,
   "metadata": {},
   "outputs": [],
   "source": [
    "sys.path.append(os.path.join(os.path.dirname(os.path.abspath('__file__')), '..', 'src'))"
   ]
  },
  {
   "cell_type": "code",
   "execution_count": 4,
   "metadata": {},
   "outputs": [],
   "source": [
    "import dataset"
   ]
  },
  {
   "cell_type": "code",
   "execution_count": 5,
   "metadata": {},
   "outputs": [],
   "source": [
    "# global constants\n",
    "η = 0.01"
   ]
  },
  {
   "cell_type": "code",
   "execution_count": 6,
   "metadata": {},
   "outputs": [],
   "source": [
    "def indicator(x):\n",
    "    return int(x)"
   ]
  },
  {
   "cell_type": "code",
   "execution_count": 7,
   "metadata": {},
   "outputs": [],
   "source": [
    "# loss function J\n",
    "def J(x, y, w, λ):\n",
    "    reg = λ * np.linalg.norm(w, ord=2)\n",
    "    cost = 0\n",
    "    for i in range(w.shape[0]):\n",
    "        cost += np.log(1 + np.exp(-y[i]*np.dot(w, x[i,:])))\n",
    "    return reg + cost"
   ]
  },
  {
   "cell_type": "code",
   "execution_count": 8,
   "metadata": {},
   "outputs": [],
   "source": [
    "# first-order differentiation of J regarding w\n",
    "def dJdw(x, y, w, λ):\n",
    "    regdiff = λ*w\n",
    "    costdiff = 0\n",
    "    for i in range(w.shape[0]):\n",
    "        costdiff += -y[i]*x[i,:] / (1+np.exp(y[i]*np.dot(w, x[i,:])))\n",
    "    return costdiff + regdiff"
   ]
  },
  {
   "cell_type": "code",
   "execution_count": 9,
   "metadata": {},
   "outputs": [
    {
     "data": {
      "text/plain": [
       "array([-0.25161259, -0.27621451, -0.09935981, -0.40605075])"
      ]
     },
     "execution_count": 9,
     "metadata": {},
     "output_type": "execute_result"
    }
   ],
   "source": [
    "dJdw(np.random.rand(100,4), np.random.rand(100), np.random.rand(4), 0.1)"
   ]
  },
  {
   "cell_type": "code",
   "execution_count": 10,
   "metadata": {},
   "outputs": [],
   "source": [
    "# second-order differentiation of J regarding w\n",
    "def d2Jdw2(x, y, w, λ):\n",
    "    regdiff = λ * np.eye(4)\n",
    "    costdiff = 0\n",
    "    for i in range(w.shape[0]):\n",
    "        e = np.exp(y[i]*np.dot(w, x[i,:]))\n",
    "        costdiff += - np.matmul(x[i,:], x[i,:].T) * e / (1+e)**2\n",
    "    return costdiff + regdiff"
   ]
  },
  {
   "cell_type": "code",
   "execution_count": 11,
   "metadata": {},
   "outputs": [],
   "source": [
    "def optimize(method, x, y, w, λ, η, n):\n",
    "    for i in range(n):\n",
    "        w, cost = method(x, y, w, λ, η)\n",
    "    return w, cost"
   ]
  },
  {
   "cell_type": "code",
   "execution_count": 12,
   "metadata": {},
   "outputs": [],
   "source": [
    "x, y = dataset.four(100)"
   ]
  },
  {
   "cell_type": "markdown",
   "metadata": {},
   "source": [
    "## 1. Steepest Gradient Method"
   ]
  },
  {
   "cell_type": "code",
   "execution_count": 13,
   "metadata": {},
   "outputs": [],
   "source": [
    "def steepest_gradient_method(x, y, w, λ, η):\n",
    "    cost = J(x, y, w, λ)\n",
    "    diff = dJdw(x, y, w, λ)\n",
    "    w = w - η * diff\n",
    "    return w, cost"
   ]
  },
  {
   "cell_type": "code",
   "execution_count": 14,
   "metadata": {},
   "outputs": [],
   "source": [
    "w, final_cost = optimize(steepest_gradient_method, x, y, np.random.rand(4), 0.1, η, 100)"
   ]
  },
  {
   "cell_type": "code",
   "execution_count": 15,
   "metadata": {},
   "outputs": [
    {
     "name": "stdout",
     "output_type": "stream",
     "text": [
      "final cost: 1.2324219618156629\n"
     ]
    }
   ],
   "source": [
    "print(f\"final cost: {final_cost}\")"
   ]
  },
  {
   "cell_type": "markdown",
   "metadata": {},
   "source": [
    "## 2. Newton Method"
   ]
  },
  {
   "cell_type": "code",
   "execution_count": 16,
   "metadata": {},
   "outputs": [],
   "source": [
    "def newton_method(x, y, w, λ, η):\n",
    "    cost = J(x, y, w, λ)\n",
    "    diff = dJdw(x, y, w, λ)\n",
    "    diff2 = d2Jdw2(x, y, w, λ)\n",
    "    w = w - η * np.matmul(np.linalg.inv(diff2), diff)\n",
    "    return w, cost"
   ]
  },
  {
   "cell_type": "code",
   "execution_count": 17,
   "metadata": {},
   "outputs": [],
   "source": [
    "w, final_cost = optimize(newton_method, x, y, np.random.rand(4), 0.1, η, 100)"
   ]
  },
  {
   "cell_type": "code",
   "execution_count": 18,
   "metadata": {},
   "outputs": [
    {
     "name": "stdout",
     "output_type": "stream",
     "text": [
      "final cost: 0.6048869530993759\n"
     ]
    }
   ],
   "source": [
    "print(f\"final cost: {final_cost}\")"
   ]
  },
  {
   "cell_type": "markdown",
   "metadata": {},
   "source": [
    "## 3. compare the methods"
   ]
  },
  {
   "cell_type": "code",
   "execution_count": 19,
   "metadata": {},
   "outputs": [],
   "source": [
    "costs_steepest = []\n",
    "costs_newton   = []\n",
    "\n",
    "w_s = w_n = np.random.rand(4)\n",
    "\n",
    "for i in range(100):\n",
    "    w_s, cost = steepest_gradient_method(x, y, w_s, 0.1, η)\n",
    "    costs_steepest.append(cost)\n",
    "\n",
    "for i in range(100):\n",
    "    w_n, cost = newton_method(x, y, w_n, 0.1, η)\n",
    "    costs_newton.append(cost)\n",
    "    \n",
    "costs_steepest = np.stack(costs_steepest)\n",
    "costs_newton   = np.stack(costs_newton)"
   ]
  },
  {
   "cell_type": "code",
   "execution_count": 20,
   "metadata": {},
   "outputs": [],
   "source": [
    "ref = costs_newton[-1]\n",
    "costs_steepest = costs_steepest - ref\n",
    "costs_newton   = costs_newton   - ref"
   ]
  },
  {
   "cell_type": "code",
   "execution_count": 21,
   "metadata": {},
   "outputs": [
    {
     "data": {
      "image/png": "[encoded data removed]",
      "text/plain": [
       "<Figure size 432x288 with 1 Axes>"
      ]
     },
     "metadata": {
      "needs_background": "light"
     },
     "output_type": "display_data"
    }
   ],
   "source": [
    "plt.plot(np.abs(costs_steepest), label='steepest')\n",
    "plt.plot(np.abs(costs_newton), label='newton')\n",
    "plt.yscale('log')\n",
    "plt.legend()\n",
    "plt.show()"
   ]
  },
  {
   "cell_type": "markdown",
   "metadata": {},
   "source": [
    "## logistic regression"
   ]
  },
  {
   "cell_type": "code",
   "execution_count": 22,
   "metadata": {},
   "outputs": [],
   "source": [
    "x, y = dataset.five(100)"
   ]
  },
  {
   "cell_type": "code",
   "execution_count": 23,
   "metadata": {},
   "outputs": [],
   "source": [
    "# loss function J\n",
    "def J(x, y, w, λ):\n",
    "    reg = λ * np.linalg.norm(w, ord=2)\n",
    "    cost = 0\n",
    "    for i in range(w.shape[0]):\n",
    "        # MSE loss\n",
    "        cost += (y[i] - np.dot(w, x[i,:]))**2\n",
    "    return reg + cost"
   ]
  },
  {
   "cell_type": "code",
   "execution_count": 24,
   "metadata": {},
   "outputs": [],
   "source": [
    "# first-order differentiation of J regarding w\n",
    "def dJdw(x, y, w, λ):\n",
    "    regdiff = λ*w\n",
    "    costdiff = 0\n",
    "    for i in range(w.shape[0]):\n",
    "        costdiff += - 2 * (y[i] - np.dot(w, x[i,:])) * x[i,:]\n",
    "    return costdiff + regdiff"
   ]
  },
  {
   "cell_type": "code",
   "execution_count": 25,
   "metadata": {},
   "outputs": [],
   "source": [
    "# second-order differentiation of J regarding w\n",
    "def d2Jdw2(x, y, w, λ):\n",
    "    regdiff = λ * np.eye(4)\n",
    "    costdiff = 0\n",
    "    for i in range(w.shape[0]):\n",
    "        costdiff += 2 * np.matmul(x[i,:], x[i,:].T)\n",
    "    return costdiff + regdiff"
   ]
  },
  {
   "cell_type": "code",
   "execution_count": 26,
   "metadata": {},
   "outputs": [],
   "source": [
    "w, final_cost = optimize(newton_method, x, y, np.random.rand(4), 0.1, η, 100)"
   ]
  },
  {
   "cell_type": "code",
   "execution_count": 27,
   "metadata": {},
   "outputs": [
    {
     "name": "stdout",
     "output_type": "stream",
     "text": [
      "final cost: 7.413168961242997\n"
     ]
    }
   ],
   "source": [
    "print(f\"final cost: {final_cost}\")"
   ]
  },
  {
   "cell_type": "code",
   "execution_count": 28,
   "metadata": {},
   "outputs": [],
   "source": [
    "w, final_cost = optimize(newton_method, x, y, np.random.rand(4), 0.1, η, 100)"
   ]
  },
  {
   "cell_type": "code",
   "execution_count": 29,
   "metadata": {},
   "outputs": [
    {
     "name": "stdout",
     "output_type": "stream",
     "text": [
      "final cost: 7.428556067643543\n"
     ]
    }
   ],
   "source": [
    "print(f\"final cost: {final_cost}\")"
   ]
  },
  {
   "cell_type": "code",
   "execution_count": 30,
   "metadata": {},
   "outputs": [],
   "source": [
    "costs_steepest = []\n",
    "costs_newton   = []\n",
    "\n",
    "w_s = w_n = np.random.rand(4)\n",
    "\n",
    "for i in range(100):\n",
    "    w_s, cost = steepest_gradient_method(x, y, w_s, 0.1, η)\n",
    "    costs_steepest.append(cost)\n",
    "\n",
    "for i in range(100):\n",
    "    w_n, cost = newton_method(x, y, w_n, 0.1, η)\n",
    "    costs_newton.append(cost)\n",
    "    \n",
    "costs_steepest = np.stack(costs_steepest)\n",
    "costs_newton   = np.stack(costs_newton)"
   ]
  },
  {
   "cell_type": "code",
   "execution_count": 31,
   "metadata": {},
   "outputs": [],
   "source": [
    "ref = costs_newton[-1]\n",
    "costs_steepest = costs_steepest - ref\n",
    "costs_newton   = costs_newton   - ref"
   ]
  },
  {
   "cell_type": "code",
   "execution_count": 32,
   "metadata": {},
   "outputs": [
    {
     "data": {
      "image/png": "[encoded data removed]",
      "text/plain": [
       "<Figure size 432x288 with 1 Axes>"
      ]
     },
     "metadata": {
      "needs_background": "light"
     },
     "output_type": "display_data"
    }
   ],
   "source": [
    "plt.plot(np.abs(costs_steepest), label='steepest')\n",
    "plt.plot(np.abs(costs_newton), label='newton')\n",
    "plt.yscale('log')\n",
    "plt.legend()\n",
    "plt.show()"
   ]
  }
 ],
 "metadata": {
  "kernelspec": {
   "display_name": "Python 3",
   "language": "python",
   "name": "python3"
  },
  "language_info": {
   "codemirror_mode": {
    "name": "ipython",
    "version": 3
   },
   "file_extension": ".py",
   "mimetype": "text/x-python",
   "name": "python",
   "nbconvert_exporter": "python",
   "pygments_lexer": "ipython3",
   "version": "3.8.3"
  }
 },
 "nbformat": 4,
 "nbformat_minor": 4
}
